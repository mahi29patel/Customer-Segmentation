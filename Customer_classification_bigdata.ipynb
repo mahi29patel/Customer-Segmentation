{
  "nbformat": 4,
  "nbformat_minor": 0,
  "metadata": {
    "colab": {
      "provenance": [],
      "authorship_tag": "ABX9TyN4iZk1kXqVZbhuVKls4DGo",
      "include_colab_link": true
    },
    "kernelspec": {
      "name": "python3",
      "display_name": "Python 3"
    },
    "language_info": {
      "name": "python"
    }
  },
  "cells": [
    {
      "cell_type": "markdown",
      "metadata": {
        "id": "view-in-github",
        "colab_type": "text"
      },
      "source": [
        "<a href=\"https://colab.research.google.com/github/mahi29patel/Customer-Segmentation/blob/main/Customer_classification_bigdata.ipynb\" target=\"_parent\"><img src=\"https://colab.research.google.com/assets/colab-badge.svg\" alt=\"Open In Colab\"/></a>"
      ]
    },
    {
      "cell_type": "markdown",
      "source": [
        "## **Customer classification: Myntra Hackerramp**"
      ],
      "metadata": {
        "id": "I_Bi10L54PT-"
      }
    },
    {
      "cell_type": "markdown",
      "source": [
        "Installing pyspark"
      ],
      "metadata": {
        "id": "fMtabl9Y4cHp"
      }
    },
    {
      "cell_type": "code",
      "source": [
        "pip install pyspark"
      ],
      "metadata": {
        "colab": {
          "base_uri": "https://localhost:8080/"
        },
        "id": "8tSWdJ9B36Fu",
        "outputId": "5b5a2eb5-52de-4730-d10f-c353df892672"
      },
      "execution_count": 2,
      "outputs": [
        {
          "output_type": "stream",
          "name": "stdout",
          "text": [
            "Collecting pyspark\n",
            "  Downloading pyspark-3.5.1.tar.gz (317.0 MB)\n",
            "\u001b[2K     \u001b[90m━━━━━━━━━━━━━━━━━━━━━━━━━━━━━━━━━━━━━━━━\u001b[0m \u001b[32m317.0/317.0 MB\u001b[0m \u001b[31m4.7 MB/s\u001b[0m eta \u001b[36m0:00:00\u001b[0m\n",
            "\u001b[?25h  Preparing metadata (setup.py) ... \u001b[?25l\u001b[?25hdone\n",
            "Requirement already satisfied: py4j==0.10.9.7 in /usr/local/lib/python3.10/dist-packages (from pyspark) (0.10.9.7)\n",
            "Building wheels for collected packages: pyspark\n",
            "  Building wheel for pyspark (setup.py) ... \u001b[?25l\u001b[?25hdone\n",
            "  Created wheel for pyspark: filename=pyspark-3.5.1-py2.py3-none-any.whl size=317488491 sha256=8aa405df27bacad0529208f3759aa726fbabb0f845109eb9379fd046e9388158\n",
            "  Stored in directory: /root/.cache/pip/wheels/80/1d/60/2c256ed38dddce2fdd93be545214a63e02fbd8d74fb0b7f3a6\n",
            "Successfully built pyspark\n",
            "Installing collected packages: pyspark\n",
            "Successfully installed pyspark-3.5.1\n"
          ]
        }
      ]
    },
    {
      "cell_type": "markdown",
      "source": [
        "Import the libraries"
      ],
      "metadata": {
        "id": "NPEJ_qmV4gMy"
      }
    },
    {
      "cell_type": "code",
      "execution_count": 3,
      "metadata": {
        "id": "r8AWaSth3tZd"
      },
      "outputs": [],
      "source": [
        "import warnings\n",
        "warnings.filterwarnings('ignore')\n",
        "from pyspark.sql import SparkSession"
      ]
    },
    {
      "cell_type": "markdown",
      "source": [
        "Initialize spark session"
      ],
      "metadata": {
        "id": "dTHHZUG24oKO"
      }
    },
    {
      "cell_type": "code",
      "source": [
        "spark = SparkSession.builder.appName(\"Customer segmentation\").getOrCreate()"
      ],
      "metadata": {
        "id": "kTFJzDc84sCe"
      },
      "execution_count": 5,
      "outputs": []
    },
    {
      "cell_type": "markdown",
      "source": [
        "Creating a data frame"
      ],
      "metadata": {
        "id": "4ccve83y8Q67"
      }
    },
    {
      "cell_type": "code",
      "source": [
        "df = spark.read.csv('data.csv',header=True,escape=\"\\\"\")"
      ],
      "metadata": {
        "id": "LhvKtZWM8WPj"
      },
      "execution_count": 6,
      "outputs": []
    },
    {
      "cell_type": "code",
      "source": [
        "df.show(5,0)"
      ],
      "metadata": {
        "colab": {
          "base_uri": "https://localhost:8080/"
        },
        "id": "iFjCJqHm8cnV",
        "outputId": "8f2e7b88-f4a8-4c2f-d6ee-f9b3efa371a9"
      },
      "execution_count": 7,
      "outputs": [
        {
          "output_type": "stream",
          "name": "stdout",
          "text": [
            "+---------+---------+-----------------------------------+--------+--------------+---------+----------+--------------+\n",
            "|InvoiceNo|StockCode|Description                        |Quantity|InvoiceDate   |UnitPrice|CustomerID|Country       |\n",
            "+---------+---------+-----------------------------------+--------+--------------+---------+----------+--------------+\n",
            "|536365   |85123A   |WHITE HANGING HEART T-LIGHT HOLDER |6       |12/1/2010 8:26|2.55     |17850     |United Kingdom|\n",
            "|536365   |71053    |WHITE METAL LANTERN                |6       |12/1/2010 8:26|3.39     |17850     |United Kingdom|\n",
            "|536365   |84406B   |CREAM CUPID HEARTS COAT HANGER     |8       |12/1/2010 8:26|2.75     |17850     |United Kingdom|\n",
            "|536365   |84029G   |KNITTED UNION FLAG HOT WATER BOTTLE|6       |12/1/2010 8:26|3.39     |17850     |United Kingdom|\n",
            "|536365   |84029E   |RED WOOLLY HOTTIE WHITE HEART.     |6       |12/1/2010 8:26|3.39     |17850     |United Kingdom|\n",
            "+---------+---------+-----------------------------------+--------+--------------+---------+----------+--------------+\n",
            "only showing top 5 rows\n",
            "\n"
          ]
        }
      ]
    },
    {
      "cell_type": "markdown",
      "source": [
        "### Analysing data to know about the data points"
      ],
      "metadata": {
        "id": "8InTjJrS8Zki"
      }
    },
    {
      "cell_type": "markdown",
      "source": [
        "Number of rows"
      ],
      "metadata": {
        "id": "JsvDR7fr8yb0"
      }
    },
    {
      "cell_type": "code",
      "source": [
        "df.count()"
      ],
      "metadata": {
        "colab": {
          "base_uri": "https://localhost:8080/"
        },
        "id": "AtfM9ogt8ru4",
        "outputId": "1acec903-3aaf-4f42-d4ef-138bf3b6461f"
      },
      "execution_count": 8,
      "outputs": [
        {
          "output_type": "execute_result",
          "data": {
            "text/plain": [
              "541909"
            ]
          },
          "metadata": {},
          "execution_count": 8
        }
      ]
    },
    {
      "cell_type": "markdown",
      "source": [
        "Distinct customers in dataframe"
      ],
      "metadata": {
        "id": "YdOXRDXz86vs"
      }
    },
    {
      "cell_type": "code",
      "source": [
        "df.select('CustomerID').distinct().count()"
      ],
      "metadata": {
        "colab": {
          "base_uri": "https://localhost:8080/"
        },
        "id": "BceyGZa69Crt",
        "outputId": "bc11d475-7214-4524-c0ec-d06db8544223"
      },
      "execution_count": 9,
      "outputs": [
        {
          "output_type": "execute_result",
          "data": {
            "text/plain": [
              "4373"
            ]
          },
          "metadata": {},
          "execution_count": 9
        }
      ]
    },
    {
      "cell_type": "markdown",
      "source": [
        "Find the country from which most purchases are made"
      ],
      "metadata": {
        "id": "CkIBbsKT9GOa"
      }
    },
    {
      "cell_type": "code",
      "source": [
        "from pyspark.sql.functions import *\n",
        "from pyspark.sql.types import *\n",
        "df.groupBy('Country').agg(countDistinct('CustomerID').alias('country_count')).orderBy(desc('country_count')).show()"
      ],
      "metadata": {
        "colab": {
          "base_uri": "https://localhost:8080/"
        },
        "id": "7lGCQtvU9NN3",
        "outputId": "46d48e27-6565-4ca7-ef72-5a79c930f304"
      },
      "execution_count": 11,
      "outputs": [
        {
          "output_type": "stream",
          "name": "stdout",
          "text": [
            "+---------------+-------------+\n",
            "|        Country|country_count|\n",
            "+---------------+-------------+\n",
            "| United Kingdom|         3950|\n",
            "|        Germany|           95|\n",
            "|         France|           87|\n",
            "|          Spain|           31|\n",
            "|        Belgium|           25|\n",
            "|    Switzerland|           21|\n",
            "|       Portugal|           19|\n",
            "|          Italy|           15|\n",
            "|        Finland|           12|\n",
            "|        Austria|           11|\n",
            "|         Norway|           10|\n",
            "|        Denmark|            9|\n",
            "|Channel Islands|            9|\n",
            "|      Australia|            9|\n",
            "|    Netherlands|            9|\n",
            "|         Sweden|            8|\n",
            "|         Cyprus|            8|\n",
            "|          Japan|            8|\n",
            "|         Poland|            6|\n",
            "|         Greece|            4|\n",
            "+---------------+-------------+\n",
            "only showing top 20 rows\n",
            "\n"
          ]
        }
      ]
    },
    {
      "cell_type": "markdown",
      "source": [
        "Find when the latest purchase"
      ],
      "metadata": {
        "id": "nxVd2g-FEl8e"
      }
    },
    {
      "cell_type": "code",
      "source": [
        "spark.sql(\"set spark.sql.legacy.timeParserPolicy=LEGACY\")\n",
        "df = df.withColumn('date',to_timestamp(\"InvoiceDate\", 'dd/M/yyyy HH:mm'))\n",
        "df.select(max(\"date\")).show()"
      ],
      "metadata": {
        "colab": {
          "base_uri": "https://localhost:8080/"
        },
        "id": "GX1lzDvvE3or",
        "outputId": "bdfc3276-e0b8-4192-b12b-1f2e1a3f4d50"
      },
      "execution_count": 15,
      "outputs": [
        {
          "output_type": "stream",
          "name": "stdout",
          "text": [
            "+-------------------+\n",
            "|          max(date)|\n",
            "+-------------------+\n",
            "|2011-12-10 17:19:00|\n",
            "+-------------------+\n",
            "\n"
          ]
        }
      ]
    },
    {
      "cell_type": "markdown",
      "source": [
        "Find the earliest purchase made by customer"
      ],
      "metadata": {
        "id": "YLcLIg7RHNgL"
      }
    },
    {
      "cell_type": "code",
      "source": [
        "df.select(min(\"date\")).show()"
      ],
      "metadata": {
        "colab": {
          "base_uri": "https://localhost:8080/"
        },
        "id": "dPve7nI1HKvh",
        "outputId": "328b156e-bc28-42ee-c097-ee3dd6a0b2dc"
      },
      "execution_count": 16,
      "outputs": [
        {
          "output_type": "stream",
          "name": "stdout",
          "text": [
            "+-------------------+\n",
            "|          min(date)|\n",
            "+-------------------+\n",
            "|2010-01-12 08:26:00|\n",
            "+-------------------+\n",
            "\n"
          ]
        }
      ]
    },
    {
      "cell_type": "markdown",
      "source": [
        "### Data pre-processing"
      ],
      "metadata": {
        "id": "tfM25JeXJeG0"
      }
    },
    {
      "cell_type": "code",
      "source": [
        "df.show(5,0)"
      ],
      "metadata": {
        "colab": {
          "base_uri": "https://localhost:8080/"
        },
        "id": "Fo36nomaJzCu",
        "outputId": "a5f9c7cc-8807-4d8d-a8cd-32cc51b6bcd3"
      },
      "execution_count": 17,
      "outputs": [
        {
          "output_type": "stream",
          "name": "stdout",
          "text": [
            "+---------+---------+-----------------------------------+--------+--------------+---------+----------+--------------+-------------------+\n",
            "|InvoiceNo|StockCode|Description                        |Quantity|InvoiceDate   |UnitPrice|CustomerID|Country       |date               |\n",
            "+---------+---------+-----------------------------------+--------+--------------+---------+----------+--------------+-------------------+\n",
            "|536365   |85123A   |WHITE HANGING HEART T-LIGHT HOLDER |6       |12/1/2010 8:26|2.55     |17850     |United Kingdom|2010-01-12 08:26:00|\n",
            "|536365   |71053    |WHITE METAL LANTERN                |6       |12/1/2010 8:26|3.39     |17850     |United Kingdom|2010-01-12 08:26:00|\n",
            "|536365   |84406B   |CREAM CUPID HEARTS COAT HANGER     |8       |12/1/2010 8:26|2.75     |17850     |United Kingdom|2010-01-12 08:26:00|\n",
            "|536365   |84029G   |KNITTED UNION FLAG HOT WATER BOTTLE|6       |12/1/2010 8:26|3.39     |17850     |United Kingdom|2010-01-12 08:26:00|\n",
            "|536365   |84029E   |RED WOOLLY HOTTIE WHITE HEART.     |6       |12/1/2010 8:26|3.39     |17850     |United Kingdom|2010-01-12 08:26:00|\n",
            "+---------+---------+-----------------------------------+--------+--------------+---------+----------+--------------+-------------------+\n",
            "only showing top 5 rows\n",
            "\n"
          ]
        }
      ]
    },
    {
      "cell_type": "markdown",
      "source": [
        "Deriving 3 features - recency, frequency, and monetary value (RFM)"
      ],
      "metadata": {
        "id": "6DWRqBanJsVu"
      }
    },
    {
      "cell_type": "markdown",
      "source": [
        "Recency"
      ],
      "metadata": {
        "id": "TCx9ZhcZPVBX"
      }
    },
    {
      "cell_type": "code",
      "source": [
        "df = df.withColumn(\"from_date\", lit(\"2010-01-12 08:26:00\"))\n",
        "df = df.withColumn('from_date',to_timestamp(\"from_date\", 'yyyy-MM-dd HH:mm:ss'))\n",
        "\n",
        "df2 = df.withColumn('recency',col(\"date\").cast(\"long\") - col('from_date').cast(\"long\"))"
      ],
      "metadata": {
        "id": "zC4F66-5PRXe"
      },
      "execution_count": 24,
      "outputs": []
    },
    {
      "cell_type": "code",
      "source": [
        "df2.show(5)"
      ],
      "metadata": {
        "colab": {
          "base_uri": "https://localhost:8080/"
        },
        "id": "sOKmoQmUPkWf",
        "outputId": "747eba82-eb00-4ce1-83de-920d1735f78c"
      },
      "execution_count": 25,
      "outputs": [
        {
          "output_type": "stream",
          "name": "stdout",
          "text": [
            "+---------+---------+--------------------+--------+--------------+---------+----------+--------------+-------------------+-------------------+-------+\n",
            "|InvoiceNo|StockCode|         Description|Quantity|   InvoiceDate|UnitPrice|CustomerID|       Country|               date|          from_date|recency|\n",
            "+---------+---------+--------------------+--------+--------------+---------+----------+--------------+-------------------+-------------------+-------+\n",
            "|   536365|   85123A|WHITE HANGING HEA...|       6|12/1/2010 8:26|     2.55|     17850|United Kingdom|2010-01-12 08:26:00|2010-01-12 08:26:00|      0|\n",
            "|   536365|    71053| WHITE METAL LANTERN|       6|12/1/2010 8:26|     3.39|     17850|United Kingdom|2010-01-12 08:26:00|2010-01-12 08:26:00|      0|\n",
            "|   536365|   84406B|CREAM CUPID HEART...|       8|12/1/2010 8:26|     2.75|     17850|United Kingdom|2010-01-12 08:26:00|2010-01-12 08:26:00|      0|\n",
            "|   536365|   84029G|KNITTED UNION FLA...|       6|12/1/2010 8:26|     3.39|     17850|United Kingdom|2010-01-12 08:26:00|2010-01-12 08:26:00|      0|\n",
            "|   536365|   84029E|RED WOOLLY HOTTIE...|       6|12/1/2010 8:26|     3.39|     17850|United Kingdom|2010-01-12 08:26:00|2010-01-12 08:26:00|      0|\n",
            "+---------+---------+--------------------+--------+--------------+---------+----------+--------------+-------------------+-------------------+-------+\n",
            "only showing top 5 rows\n",
            "\n"
          ]
        }
      ]
    },
    {
      "cell_type": "markdown",
      "source": [
        "Select the most recent purchase"
      ],
      "metadata": {
        "id": "Qvnoj-q6QZAa"
      }
    },
    {
      "cell_type": "code",
      "source": [
        "df2 = df2.join(df2.groupBy('CustomerID').agg(max('recency').alias('recency')),on='recency',how='leftsemi')"
      ],
      "metadata": {
        "id": "fkfe_6bRQd4H"
      },
      "execution_count": 26,
      "outputs": []
    },
    {
      "cell_type": "code",
      "source": [
        "df.show(5)"
      ],
      "metadata": {
        "colab": {
          "base_uri": "https://localhost:8080/"
        },
        "id": "9BB5mQ9pQmNO",
        "outputId": "fe247cc2-f623-44e5-d149-a8517677dc19"
      },
      "execution_count": 27,
      "outputs": [
        {
          "output_type": "stream",
          "name": "stdout",
          "text": [
            "+---------+---------+--------------------+--------+--------------+---------+----------+--------------+-------------------+-------------------+\n",
            "|InvoiceNo|StockCode|         Description|Quantity|   InvoiceDate|UnitPrice|CustomerID|       Country|               date|          from_date|\n",
            "+---------+---------+--------------------+--------+--------------+---------+----------+--------------+-------------------+-------------------+\n",
            "|   536365|   85123A|WHITE HANGING HEA...|       6|12/1/2010 8:26|     2.55|     17850|United Kingdom|2010-01-12 08:26:00|2010-01-12 08:26:00|\n",
            "|   536365|    71053| WHITE METAL LANTERN|       6|12/1/2010 8:26|     3.39|     17850|United Kingdom|2010-01-12 08:26:00|2010-01-12 08:26:00|\n",
            "|   536365|   84406B|CREAM CUPID HEART...|       8|12/1/2010 8:26|     2.75|     17850|United Kingdom|2010-01-12 08:26:00|2010-01-12 08:26:00|\n",
            "|   536365|   84029G|KNITTED UNION FLA...|       6|12/1/2010 8:26|     3.39|     17850|United Kingdom|2010-01-12 08:26:00|2010-01-12 08:26:00|\n",
            "|   536365|   84029E|RED WOOLLY HOTTIE...|       6|12/1/2010 8:26|     3.39|     17850|United Kingdom|2010-01-12 08:26:00|2010-01-12 08:26:00|\n",
            "+---------+---------+--------------------+--------+--------------+---------+----------+--------------+-------------------+-------------------+\n",
            "only showing top 5 rows\n",
            "\n"
          ]
        }
      ]
    },
    {
      "cell_type": "markdown",
      "source": [
        "Frequency - how often a customer bought something on the platform"
      ],
      "metadata": {
        "id": "4QUTkTkZQ1S5"
      }
    },
    {
      "cell_type": "code",
      "source": [
        "df_freq = df2.groupBy('CustomerID').agg(count('InvoiceDate').alias('frequency'))"
      ],
      "metadata": {
        "id": "qnzQZwGwQ6ER"
      },
      "execution_count": 28,
      "outputs": []
    },
    {
      "cell_type": "code",
      "source": [
        "df_freq.show(5)"
      ],
      "metadata": {
        "colab": {
          "base_uri": "https://localhost:8080/"
        },
        "id": "zCXfNpNqQ_C9",
        "outputId": "76a6789a-a6f7-4c0a-a25f-797e0a1f7234"
      },
      "execution_count": 29,
      "outputs": [
        {
          "output_type": "stream",
          "name": "stdout",
          "text": [
            "+----------+---------+\n",
            "|CustomerID|frequency|\n",
            "+----------+---------+\n",
            "|     16250|       14|\n",
            "|     15574|      121|\n",
            "|     13610|       20|\n",
            "|     16320|       47|\n",
            "|     13282|        1|\n",
            "+----------+---------+\n",
            "only showing top 5 rows\n",
            "\n"
          ]
        }
      ]
    },
    {
      "cell_type": "markdown",
      "source": [
        "Joining both the data frames"
      ],
      "metadata": {
        "id": "B-D17t4DRKkB"
      }
    },
    {
      "cell_type": "code",
      "source": [
        "df3 = df2.join(df_freq,on='CustomerID',how='inner')"
      ],
      "metadata": {
        "id": "MqUpDvG7RNLN"
      },
      "execution_count": 30,
      "outputs": []
    },
    {
      "cell_type": "code",
      "source": [
        "df3.printSchema()"
      ],
      "metadata": {
        "colab": {
          "base_uri": "https://localhost:8080/"
        },
        "id": "hjYWnvI8RR85",
        "outputId": "5812770b-bb45-4a23-b86c-f80bbfae56ac"
      },
      "execution_count": 31,
      "outputs": [
        {
          "output_type": "stream",
          "name": "stdout",
          "text": [
            "root\n",
            " |-- CustomerID: string (nullable = true)\n",
            " |-- recency: long (nullable = true)\n",
            " |-- InvoiceNo: string (nullable = true)\n",
            " |-- StockCode: string (nullable = true)\n",
            " |-- Description: string (nullable = true)\n",
            " |-- Quantity: string (nullable = true)\n",
            " |-- InvoiceDate: string (nullable = true)\n",
            " |-- UnitPrice: string (nullable = true)\n",
            " |-- Country: string (nullable = true)\n",
            " |-- date: timestamp (nullable = true)\n",
            " |-- from_date: timestamp (nullable = true)\n",
            " |-- frequency: long (nullable = false)\n",
            "\n"
          ]
        }
      ]
    },
    {
      "cell_type": "markdown",
      "source": [
        "Monetary value - the total amount spent by each customer"
      ],
      "metadata": {
        "id": "AzwBiwSPRaIZ"
      }
    },
    {
      "cell_type": "code",
      "source": [
        "#The total amount spent in each purchase\n",
        "m_val = df3.withColumn('TotalAmount',col(\"Quantity\") * col(\"UnitPrice\"))\n",
        "m_val.show(5)"
      ],
      "metadata": {
        "colab": {
          "base_uri": "https://localhost:8080/"
        },
        "id": "AULlN-_CnqBS",
        "outputId": "21e97c24-8976-4e64-8ca0-7cbff7200517"
      },
      "execution_count": 54,
      "outputs": [
        {
          "output_type": "stream",
          "name": "stdout",
          "text": [
            "+----------+-------+---------+---------+--------------------+--------+--------------+---------+--------------+-------------------+-------------------+---------+------------------+\n",
            "|CustomerID|recency|InvoiceNo|StockCode|         Description|Quantity|   InvoiceDate|UnitPrice|       Country|               date|          from_date|frequency|       TotalAmount|\n",
            "+----------+-------+---------+---------+--------------------+--------+--------------+---------+--------------+-------------------+-------------------+---------+------------------+\n",
            "|     18074|   5220|   536384|    82484|WOOD BLACK BOARD ...|       3|12/1/2010 9:53|     6.45|United Kingdom|2010-01-12 09:53:00|2010-01-12 08:26:00|       13|             19.35|\n",
            "|     18074|   5220|   536384|    84755|COLOUR GLASS T-LI...|      48|12/1/2010 9:53|     0.65|United Kingdom|2010-01-12 09:53:00|2010-01-12 08:26:00|       13|31.200000000000003|\n",
            "|     18074|   5220|   536384|    22464|HANGING METAL HEA...|      12|12/1/2010 9:53|     1.65|United Kingdom|2010-01-12 09:53:00|2010-01-12 08:26:00|       13|19.799999999999997|\n",
            "|     18074|   5220|   536384|    21324|HANGING MEDINA LA...|       6|12/1/2010 9:53|     2.95|United Kingdom|2010-01-12 09:53:00|2010-01-12 08:26:00|       13|17.700000000000003|\n",
            "|     18074|   5220|   536384|    22457|NATURAL SLATE HEA...|      12|12/1/2010 9:53|     2.95|United Kingdom|2010-01-12 09:53:00|2010-01-12 08:26:00|       13|35.400000000000006|\n",
            "+----------+-------+---------+---------+--------------------+--------+--------------+---------+--------------+-------------------+-------------------+---------+------------------+\n",
            "only showing top 5 rows\n",
            "\n"
          ]
        }
      ]
    },
    {
      "cell_type": "code",
      "source": [
        " #Total amount spent by each customer\n",
        " m_val = m_val.groupBy('CustomerID').agg(sum('TotalAmount').alias('monetary_value'))\n",
        " m_val.show(10)"
      ],
      "metadata": {
        "colab": {
          "base_uri": "https://localhost:8080/"
        },
        "id": "Ud4M6WfDn8ee",
        "outputId": "bf440545-d2ca-4566-8d9f-fe00ca2b6e37"
      },
      "execution_count": 55,
      "outputs": [
        {
          "output_type": "stream",
          "name": "stdout",
          "text": [
            "+----------+------------------+\n",
            "|CustomerID|    monetary_value|\n",
            "+----------+------------------+\n",
            "|     16250|            226.14|\n",
            "|     15574|            375.65|\n",
            "|     13610|110.55000000000001|\n",
            "|     16320| 852.6800000000002|\n",
            "|     13282|             -2.55|\n",
            "|     15271|175.09000000000003|\n",
            "|     13187|236.01999999999995|\n",
            "|     12888|             81.36|\n",
            "|     17757|            150.75|\n",
            "|     13107| 566.8400000000001|\n",
            "+----------+------------------+\n",
            "only showing top 10 rows\n",
            "\n"
          ]
        }
      ]
    },
    {
      "cell_type": "code",
      "source": [
        "finaldf = m_val.join(df3,on='CustomerID',how='inner')"
      ],
      "metadata": {
        "id": "7smh32emoEha"
      },
      "execution_count": 34,
      "outputs": []
    },
    {
      "cell_type": "code",
      "source": [
        "finaldf = finaldf.select(['recency','frequency','monetary_value','CustomerID']).distinct()"
      ],
      "metadata": {
        "id": "HX9vYEoBoI3K"
      },
      "execution_count": 35,
      "outputs": []
    },
    {
      "cell_type": "code",
      "source": [
        "finaldf.show(5)"
      ],
      "metadata": {
        "colab": {
          "base_uri": "https://localhost:8080/"
        },
        "id": "KTB0SmdooKMc",
        "outputId": "4b6cb8e8-63ad-4d62-8956-dfc8276a2ed5"
      },
      "execution_count": 36,
      "outputs": [
        {
          "output_type": "stream",
          "name": "stdout",
          "text": [
            "+--------+---------+------------------+----------+\n",
            "| recency|frequency|    monetary_value|CustomerID|\n",
            "+--------+---------+------------------+----------+\n",
            "|    5580|       14|            226.14|     16250|\n",
            "| 2704800|      121|            375.65|     15574|\n",
            "|54453660|       20|110.55000000000001|     13610|\n",
            "|54543900|       47| 852.6800000000002|     16320|\n",
            "|59799420|        1|             -2.55|     13282|\n",
            "+--------+---------+------------------+----------+\n",
            "only showing top 5 rows\n",
            "\n"
          ]
        }
      ]
    },
    {
      "cell_type": "markdown",
      "source": [
        "Standardizing dataframe"
      ],
      "metadata": {
        "id": "7PBOiAdwoaUQ"
      }
    },
    {
      "cell_type": "code",
      "source": [
        "from pyspark.ml.feature import VectorAssembler\n",
        "from pyspark.ml.feature import StandardScaler\n",
        "\n",
        "assemble=VectorAssembler(inputCols=[\n",
        "    'recency','frequency','monetary_value'\n",
        "], outputCol='features')\n",
        "\n",
        "assembled_data=assemble.transform(finaldf)\n",
        "\n",
        "scale=StandardScaler(inputCol='features',outputCol='standardized')\n",
        "data_scale=scale.fit(assembled_data)\n",
        "data_scale_output=data_scale.transform(assembled_data)"
      ],
      "metadata": {
        "id": "dek1isinocl0"
      },
      "execution_count": 38,
      "outputs": []
    },
    {
      "cell_type": "code",
      "source": [
        "data_scale_output.select('standardized').show(2,truncate=False)"
      ],
      "metadata": {
        "colab": {
          "base_uri": "https://localhost:8080/"
        },
        "id": "jIaP1gsgqUxh",
        "outputId": "e561b1ba-7a33-457b-c706-c8a460926c97"
      },
      "execution_count": 39,
      "outputs": [
        {
          "output_type": "stream",
          "name": "stdout",
          "text": [
            "+--------------------------------------------------------------+\n",
            "|standardized                                                  |\n",
            "+--------------------------------------------------------------+\n",
            "|[4.565543463500656E-4,0.45450804304970116,0.07578116853200015]|\n",
            "|[0.22130612831678448,3.9282480863581313,0.12588306340782637]  |\n",
            "+--------------------------------------------------------------+\n",
            "only showing top 2 rows\n",
            "\n"
          ]
        }
      ]
    },
    {
      "cell_type": "markdown",
      "source": [
        "### Data processing: K-means clustering"
      ],
      "metadata": {
        "id": "WAKl3tnuqwDL"
      }
    },
    {
      "cell_type": "markdown",
      "source": [
        "Number of clusters to use"
      ],
      "metadata": {
        "id": "ShVqMxwCq3CX"
      }
    },
    {
      "cell_type": "code",
      "source": [
        "from pyspark.ml.clustering import KMeans\n",
        "from pyspark.ml.evaluation import ClusteringEvaluator\n",
        "import numpy as np\n",
        "\n",
        "cost = np.zeros(10)\n",
        "\n",
        "evaluator = ClusteringEvaluator(predictionCol='prediction', featuresCol='standardized',metricName='silhouette', distanceMeasure='squaredEuclidean')\n",
        "\n",
        "for i in range(2,10):\n",
        "    KMeans_algo=KMeans(featuresCol='standardized', k=i)\n",
        "    KMeans_fit=KMeans_algo.fit(data_scale_output)\n",
        "    output=KMeans_fit.transform(data_scale_output)\n",
        "    cost[i] = KMeans_fit.summary.trainingCost"
      ],
      "metadata": {
        "id": "Uw2GK8J2q02m"
      },
      "execution_count": 40,
      "outputs": []
    },
    {
      "cell_type": "code",
      "source": [
        "import pandas as pd\n",
        "import pylab as pl\n",
        "df_cost = pd.DataFrame(cost[2:])\n",
        "df_cost.columns = [\"cost\"]\n",
        "new_col = range(2,10)\n",
        "df_cost.insert(0, 'cluster', new_col)\n",
        "pl.plot(df_cost.cluster, df_cost.cost)\n",
        "pl.xlabel('Number of Clusters')\n",
        "pl.ylabel('Score')\n",
        "pl.title('Elbow Curve')\n",
        "pl.show()"
      ],
      "metadata": {
        "colab": {
          "base_uri": "https://localhost:8080/",
          "height": 472
        },
        "id": "sk1D4Eett3_d",
        "outputId": "c4f2cae2-e90b-45a1-a6ce-8bcb29dce935"
      },
      "execution_count": 41,
      "outputs": [
        {
          "output_type": "display_data",
          "data": {
            "text/plain": [
              "<Figure size 640x480 with 1 Axes>"
            ],
            "image/png": "[encoded data removed]"
          },
          "metadata": {}
        }
      ]
    },
    {
      "cell_type": "markdown",
      "source": [
        "Building the K-Means Clustering Model"
      ],
      "metadata": {
        "id": "2OZ0MtmbuDPu"
      }
    },
    {
      "cell_type": "code",
      "source": [
        "KMeans_algo=KMeans(featuresCol='standardized', k=4)\n",
        "KMeans_fit=KMeans_algo.fit(data_scale_output)"
      ],
      "metadata": {
        "id": "-kdfVpWhuEGn"
      },
      "execution_count": 42,
      "outputs": []
    },
    {
      "cell_type": "markdown",
      "source": [
        "Making predictions"
      ],
      "metadata": {
        "id": "NgvTJjrgu6O9"
      }
    },
    {
      "cell_type": "code",
      "source": [
        "preds=KMeans_fit.transform(data_scale_output)\n",
        "\n",
        "preds.show(5,0)"
      ],
      "metadata": {
        "colab": {
          "base_uri": "https://localhost:8080/"
        },
        "id": "8FoFMymYu-lj",
        "outputId": "b1e7b445-affe-4759-8370-483a39d36bc4"
      },
      "execution_count": 43,
      "outputs": [
        {
          "output_type": "stream",
          "name": "stdout",
          "text": [
            "+--------+---------+------------------+----------+------------------------------------+--------------------------------------------------------------+----------+\n",
            "|recency |frequency|monetary_value    |CustomerID|features                            |standardized                                                  |prediction|\n",
            "+--------+---------+------------------+----------+------------------------------------+--------------------------------------------------------------+----------+\n",
            "|5580    |14       |226.14            |16250     |[5580.0,14.0,226.14]                |[4.565543463500656E-4,0.45450804304970116,0.07578116853200015]|0         |\n",
            "|2704800 |121      |375.65            |15574     |[2704800.0,121.0,375.65]            |[0.22130612831678448,3.9282480863581313,0.12588306340782637]  |2         |\n",
            "|54453660|20       |110.55000000000001|13610     |[5.445366E7,20.0,110.55000000000001]|[4.455386227180773,0.6492972043567159,0.037046113828657544]   |1         |\n",
            "|54543900|47       |852.6800000000002 |16320     |[5.45439E7,47.0,852.6800000000002]  |[4.462769643706692,1.5258484302382824,0.28573930655286944]    |1         |\n",
            "|59799420|1        |-2.55             |13282     |[5.979942E7,1.0,-2.55]              |[4.892775109357175,0.032464860217835796,-8.545236568347058E-4]|1         |\n",
            "+--------+---------+------------------+----------+------------------------------------+--------------------------------------------------------------+----------+\n",
            "only showing top 5 rows\n",
            "\n"
          ]
        }
      ]
    },
    {
      "cell_type": "markdown",
      "source": [
        "Cluster analysis"
      ],
      "metadata": {
        "id": "stBBSMf2u8aQ"
      }
    },
    {
      "cell_type": "code",
      "source": [
        "import matplotlib.pyplot as plt\n",
        "import seaborn as sns\n",
        "\n",
        "df_viz = preds.select('recency','frequency','monetary_value','prediction')\n",
        "df_viz = df_viz.toPandas()\n",
        "avg_df = df_viz.groupby(['prediction'], as_index=False).mean()\n",
        "\n",
        "list1 = ['recency','frequency','monetary_value']\n",
        "\n",
        "for i in list1:\n",
        "    sns.barplot(x='prediction',y=str(i),data=avg_df)\n",
        "    plt.show()"
      ],
      "metadata": {
        "colab": {
          "base_uri": "https://localhost:8080/",
          "height": 1000
        },
        "id": "S5nOqZBywDzZ",
        "outputId": "b0a1f13e-ea98-4e7b-bd35-6eb442727988"
      },
      "execution_count": 45,
      "outputs": [
        {
          "output_type": "display_data",
          "data": {
            "text/plain": [
              "<Figure size 640x480 with 1 Axes>"
            ],
            "image/png": "[encoded data removed]"
          },
          "metadata": {}
        },
        {
          "output_type": "display_data",
          "data": {
            "text/plain": [
              "<Figure size 640x480 with 1 Axes>"
            ],
            "image/png": "[encoded data removed]"
          },
          "metadata": {}
        },
        {
          "output_type": "display_data",
          "data": {
            "text/plain": [
              "<Figure size 640x480 with 1 Axes>"
            ],
            "image/png": "[encoded data removed]"
          },
          "metadata": {}
        }
      ]
    },
    {
      "cell_type": "markdown",
      "source": [
        "### Cluster Analysis"
      ],
      "metadata": {
        "id": "o32fi_0exZSm"
      }
    },
    {
      "cell_type": "markdown",
      "source": [
        "Cluster 0:\n",
        "Customers in this segment display low recency, frequency, and monetary value.\n",
        "They rarely shop on the platform and are low potential customers.\n",
        "\n",
        "Cluster 1:\n",
        "Customer in this cluster display high recency but haven't been seen spending much on the platform.\n",
        "They also don't visit the site often. This indicates that they might be newer customers who have just started doing business with the company.\n",
        "\n",
        "Cluster 2:\n",
        "Customers in this segment display medium recency and frequency and spend a lot of money on the platform. This indicates that they tend to buy high-value items or make bulk purchases.\n",
        "\n",
        "Cluster 3:\n",
        "The final segment comprises users who display high recency and make frequent purchases on the platform. However, they don't spend much on the platform, which might mean that they tend to select cheaper items in each purchase."
      ],
      "metadata": {
        "id": "tTjAo6w0xiq_"
      }
    }
  ]
}